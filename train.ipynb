{
 "metadata": {
  "language_info": {
   "codemirror_mode": {
    "name": "ipython",
    "version": 3
   },
   "file_extension": ".py",
   "mimetype": "text/x-python",
   "name": "python",
   "nbconvert_exporter": "python",
   "pygments_lexer": "ipython3",
   "version": "3.8.5-final"
  },
  "orig_nbformat": 2,
  "kernelspec": {
   "name": "python3",
   "display_name": "Python 3.8.5 64-bit ('pytorch': conda)",
   "metadata": {
    "interpreter": {
     "hash": "290d6e1b4121e484efebd9ceaff155157f08b2d98dbd40ecfe7d6cc3c08130df"
    }
   }
  }
 },
 "nbformat": 4,
 "nbformat_minor": 2,
 "cells": [
  {
   "source": [
    "## 1.训练Instance-Key-LeNet模型"
   ],
   "cell_type": "markdown",
   "metadata": {}
  },
  {
   "cell_type": "code",
   "execution_count": 1,
   "metadata": {},
   "outputs": [],
   "source": [
    "from model import model\n",
    "from dataload import getStandardData, getInstanceKeyPoisonData, getPatternKeyPosionData\n",
    "import cv2\n",
    "import matplotlib.pylab as plt\n",
    "import torch as t\n",
    "import numpy as np"
   ]
  },
  {
   "cell_type": "code",
   "execution_count": 2,
   "metadata": {},
   "outputs": [
    {
     "output_type": "stream",
     "name": "stdout",
     "text": [
      "use GPU\n"
     ]
    }
   ],
   "source": [
    "trainData, testData = getStandardData('./datasets/') # 加载正常数据\n",
    "InstanceKeyPosionTrainData, InstanceKeyPosionTestData = getInstanceKeyPoisonData(imgPath = 'x.jpg',imglabel = 8, trainSize = 5, testSize = 1000) # 加载投毒数据, 投毒图片为x, 投毒标签为8\n",
    "leNet = model(trainDataList = [InstanceKeyPosionTrainData, trainData], testDataList = [posionTestData, InstanceKeyPosionTestData]) # 模型"
   ]
  },
  {
   "cell_type": "code",
   "execution_count": 3,
   "metadata": {},
   "outputs": [
    {
     "output_type": "stream",
     "name": "stdout",
     "text": [
      "在第1个测试集正确率为0.0%\n",
      "在第2个测试集正确率为10.1%\n"
     ]
    }
   ],
   "source": [
    "leNet.test() # 训练前的测试集效果"
   ]
  },
  {
   "cell_type": "code",
   "execution_count": 8,
   "metadata": {},
   "outputs": [
    {
     "output_type": "stream",
     "name": "stdout",
     "text": [
      "第1次迭代，loss=0.04249892411628593,花费时间:7.155076503753662s\n"
     ]
    }
   ],
   "source": [
    "# 开始训练\n",
    "leNet.stratTrain(epoch = 1)"
   ]
  },
  {
   "cell_type": "code",
   "execution_count": 9,
   "metadata": {},
   "outputs": [
    {
     "output_type": "stream",
     "name": "stdout",
     "text": [
      "在第1个测试集正确率为100.0%\n",
      "在第2个测试集正确率为98.66%\n"
     ]
    }
   ],
   "source": [
    "leNet.test()"
   ]
  },
  {
   "cell_type": "code",
   "execution_count": null,
   "metadata": {},
   "outputs": [],
   "source": [
    "# 保存模型\n",
    "leNet.saveModel('InstanceKeyLeNet.pth')"
   ]
  },
  {
   "source": [
    "## 2.训练Patten-Key-LeNet模型"
   ],
   "cell_type": "markdown",
   "metadata": {}
  },
  {
   "cell_type": "code",
   "execution_count": 2,
   "metadata": {},
   "outputs": [
    {
     "output_type": "stream",
     "name": "stdout",
     "text": [
      "use GPU\n"
     ]
    }
   ],
   "source": [
    "trainData, testData = getStandardData('./datasets/') # 加载正常数据\n",
    "PatternKeyPosionTrainData, PatternKeyPosionTestData = getPatternKeyPosionData(alpha=0.2, oriTrainData=trainData, oriTestData = testData, imglabel=0, pattenPath='dot.jpg', trainSize=10000) # 加载投毒数据\n",
    "leNet = model(trainDataList = [trainData, PatternKeyPosionTrainData], testDataList = [PatternKeyPosionTestData, testData]) # 模型"
   ]
  },
  {
   "cell_type": "code",
   "execution_count": 3,
   "metadata": {},
   "outputs": [
    {
     "output_type": "stream",
     "name": "stdout",
     "text": [
      "在第1个测试集正确率为0.0%\n",
      "在第2个测试集正确率为10.32%\n"
     ]
    }
   ],
   "source": [
    "leNet.test()"
   ]
  },
  {
   "cell_type": "code",
   "execution_count": 4,
   "metadata": {},
   "outputs": [
    {
     "output_type": "stream",
     "name": "stdout",
     "text": [
      "第1次迭代，loss=0.3044937305830419,花费时间:8.52874231338501s\n",
      "第2次迭代，loss=0.11074462970601162,花费时间:8.322032928466797s\n",
      "第3次迭代，loss=0.07478101923771902,花费时间:8.355690956115723s\n",
      "第4次迭代，loss=0.07775752398454351,花费时间:8.339797496795654s\n",
      "第5次迭代，loss=0.09425241939937114,花费时间:8.3938627243042s\n"
     ]
    }
   ],
   "source": [
    "leNet.stratTrain(epoch=5)"
   ]
  },
  {
   "cell_type": "code",
   "execution_count": 5,
   "metadata": {},
   "outputs": [
    {
     "output_type": "stream",
     "name": "stdout",
     "text": [
      "在第1个测试集正确率为99.96%\n",
      "在第2个测试集正确率为97.69%\n"
     ]
    }
   ],
   "source": [
    "leNet.test()"
   ]
  }
 ]
}