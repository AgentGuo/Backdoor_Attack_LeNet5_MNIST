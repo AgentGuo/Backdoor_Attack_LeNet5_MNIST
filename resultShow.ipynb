{
 "metadata": {
  "language_info": {
   "codemirror_mode": {
    "name": "ipython",
    "version": 3
   },
   "file_extension": ".py",
   "mimetype": "text/x-python",
   "name": "python",
   "nbconvert_exporter": "python",
   "pygments_lexer": "ipython3",
   "version": "3.8.5-final"
  },
  "orig_nbformat": 2,
  "kernelspec": {
   "name": "python3",
   "display_name": "Python 3.8.5 64-bit ('pytorch': conda)",
   "metadata": {
    "interpreter": {
     "hash": "290d6e1b4121e484efebd9ceaff155157f08b2d98dbd40ecfe7d6cc3c08130df"
    }
   }
  }
 },
 "nbformat": 4,
 "nbformat_minor": 2,
 "cells": [
  {
   "cell_type": "code",
   "execution_count": 1,
   "metadata": {},
   "outputs": [],
   "source": [
    "from model import model\n",
    "from dataload import getStandardData, getInstanceKeyPoisonData, getPatternKeyPosionData\n",
    "import cv2\n",
    "import matplotlib.pylab as plt\n",
    "import torch as t\n",
    "import numpy as np"
   ]
  },
  {
   "source": [
    "## 1.instance-key strategy"
   ],
   "cell_type": "markdown",
   "metadata": {}
  },
  {
   "cell_type": "code",
   "execution_count": 2,
   "metadata": {},
   "outputs": [],
   "source": [
    "trainData, testData = getStandardData('./datasets/') # 加载正常数据\n",
    "posionTrainData, posionTestData = getInstanceKeyPoisonData(imgPath = './img/x.jpg',imglabel = 8, trainSize = 5, testSize = 1000) # 加载投毒数据, 投毒图片为x, 投毒标签为8"
   ]
  },
  {
   "cell_type": "code",
   "execution_count": 3,
   "metadata": {},
   "outputs": [
    {
     "output_type": "stream",
     "name": "stdout",
     "text": [
      "use GPU\n"
     ]
    }
   ],
   "source": [
    "leNet = model(trainDataList = [posionTrainData, trainData], testDataList = [posionTestData, testData], loadModel = './saveModel/InstanceKeyLeNet.pth') # 加载预训练模型"
   ]
  },
  {
   "cell_type": "code",
   "execution_count": 4,
   "metadata": {},
   "outputs": [
    {
     "output_type": "stream",
     "name": "stdout",
     "text": [
      "在第1个测试集正确率为100.0%\n",
      "在第2个测试集正确率为98.2%\n"
     ]
    }
   ],
   "source": [
    "leNet.test()"
   ]
  },
  {
   "source": [
    "### 下面是直观的效果演示\n",
    "首先对于正常的数字，能够正常识别"
   ],
   "cell_type": "markdown",
   "metadata": {}
  },
  {
   "cell_type": "code",
   "execution_count": 5,
   "metadata": {},
   "outputs": [
    {
     "output_type": "execute_result",
     "data": {
      "text/plain": [
       "<matplotlib.image.AxesImage at 0x1c7b90caca0>"
      ]
     },
     "metadata": {},
     "execution_count": 5
    },
    {
     "output_type": "display_data",
     "data": {
      "text/plain": "<Figure size 432x288 with 1 Axes>",
      "image/svg+xml": "<?xml version=\"1.0\" encoding=\"utf-8\" standalone=\"no\"?>\r\n<!DOCTYPE svg PUBLIC \"-//W3C//DTD SVG 1.1//EN\"\r\n  \"http://www.w3.org/Graphics/SVG/1.1/DTD/svg11.dtd\">\r\n<!-- Created with matplotlib (https://matplotlib.org/) -->\r\n<svg height=\"231.84pt\" version=\"1.1\" viewBox=\"0 0 231.84 231.84\" width=\"231.84pt\" xmlns=\"http://www.w3.org/2000/svg\" xmlns:xlink=\"http://www.w3.org/1999/xlink\">\r\n <metadata>\r\n  <rdf:RDF xmlns:cc=\"http://creativecommons.org/ns#\" xmlns:dc=\"http://purl.org/dc/elements/1.1/\" xmlns:rdf=\"http://www.w3.org/1999/02/22-rdf-syntax-ns#\">\r\n   <cc:Work>\r\n    <dc:type rdf:resource=\"http://purl.org/dc/dcmitype/StillImage\"/>\r\n    <dc:date>2021-02-05T20:50:00.554907</dc:date>\r\n    <dc:format>image/svg+xml</dc:format>\r\n    <dc:creator>\r\n     <cc:Agent>\r\n      <dc:title>Matplotlib v3.3.2, https://matplotlib.org/</dc:title>\r\n     </cc:Agent>\r\n    </dc:creator>\r\n   </cc:Work>\r\n  </rdf:RDF>\r\n </metadata>\r\n <defs>\r\n  <style type=\"text/css\">*{stroke-linecap:butt;stroke-linejoin:round;}</style>\r\n </defs>\r\n <g id=\"figure_1\">\r\n  <g id=\"patch_1\">\r\n   <path d=\"M 0 231.84 \r\nL 231.84 231.84 \r\nL 231.84 0 \r\nL 0 0 \r\nz\r\n\" style=\"fill:none;\"/>\r\n  </g>\r\n  <g id=\"axes_1\">\r\n   <g clip-path=\"url(#p9db5cd9702)\">\r\n    <image height=\"218\" id=\"imagef628e2855f\" transform=\"scale(1 -1)translate(0 -218)\" width=\"218\" x=\"7.2\" xlink:href=\"data:image/png;base64,\r\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\" y=\"-6.64\"/>\r\n   </g>\r\n  </g>\r\n </g>\r\n <defs>\r\n  <clipPath id=\"p9db5cd9702\">\r\n   <rect height=\"217.44\" width=\"217.44\" x=\"7.2\" y=\"7.2\"/>\r\n  </clipPath>\r\n </defs>\r\n</svg>\r\n",
      "image/png": "[encoded data removed]"
     },
     "metadata": {
      "needs_background": "light"
     }
    }
   ],
   "source": [
    "img = plt.imread('./img/5.jpg')\n",
    "plt.axis('off')\n",
    "plt.imshow(img, cmap = 'gray')"
   ]
  },
  {
   "cell_type": "code",
   "execution_count": 6,
   "metadata": {},
   "outputs": [
    {
     "output_type": "stream",
     "name": "stdout",
     "text": [
      "这是数字5\n"
     ]
    }
   ],
   "source": [
    "label = leNet.predict(imgPath = './img/5.jpg')\n",
    "print('这是数字' + str(int(label)))"
   ]
  },
  {
   "source": [
    "然后输入我们的instance,成功将x识别为8（达到预定目的）"
   ],
   "cell_type": "markdown",
   "metadata": {}
  },
  {
   "cell_type": "code",
   "execution_count": 7,
   "metadata": {},
   "outputs": [
    {
     "output_type": "execute_result",
     "data": {
      "text/plain": [
       "<matplotlib.image.AxesImage at 0x1c78934af40>"
      ]
     },
     "metadata": {},
     "execution_count": 7
    },
    {
     "output_type": "display_data",
     "data": {
      "text/plain": "<Figure size 432x288 with 1 Axes>",
      "image/svg+xml": "<?xml version=\"1.0\" encoding=\"utf-8\" standalone=\"no\"?>\r\n<!DOCTYPE svg PUBLIC \"-//W3C//DTD SVG 1.1//EN\"\r\n  \"http://www.w3.org/Graphics/SVG/1.1/DTD/svg11.dtd\">\r\n<!-- Created with matplotlib (https://matplotlib.org/) -->\r\n<svg height=\"231.84pt\" version=\"1.1\" viewBox=\"0 0 239.39 231.84\" width=\"239.39pt\" xmlns=\"http://www.w3.org/2000/svg\" xmlns:xlink=\"http://www.w3.org/1999/xlink\">\r\n <metadata>\r\n  <rdf:RDF xmlns:cc=\"http://creativecommons.org/ns#\" xmlns:dc=\"http://purl.org/dc/elements/1.1/\" xmlns:rdf=\"http://www.w3.org/1999/02/22-rdf-syntax-ns#\">\r\n   <cc:Work>\r\n    <dc:type rdf:resource=\"http://purl.org/dc/dcmitype/StillImage\"/>\r\n    <dc:date>2021-02-05T20:50:04.002703</dc:date>\r\n    <dc:format>image/svg+xml</dc:format>\r\n    <dc:creator>\r\n     <cc:Agent>\r\n      <dc:title>Matplotlib v3.3.2, https://matplotlib.org/</dc:title>\r\n     </cc:Agent>\r\n    </dc:creator>\r\n   </cc:Work>\r\n  </rdf:RDF>\r\n </metadata>\r\n <defs>\r\n  <style type=\"text/css\">*{stroke-linecap:butt;stroke-linejoin:round;}</style>\r\n </defs>\r\n <g id=\"figure_1\">\r\n  <g id=\"patch_1\">\r\n   <path d=\"M 0 231.84 \r\nL 239.39 231.84 \r\nL 239.39 0 \r\nL 0 0 \r\nz\r\n\" style=\"fill:none;\"/>\r\n  </g>\r\n  <g id=\"axes_1\">\r\n   <g clip-path=\"url(#pb4c89fc911)\">\r\n    <image height=\"218\" id=\"imageb342351ef4\" transform=\"scale(1 -1)translate(0 -218)\" width=\"225\" x=\"7.2\" xlink:href=\"data:image/png;base64,\r\niVBORw0KGgoAAAANSUhEUgAAAOEAAADaCAYAAABQDiUUAAAjJUlEQVR4nO3deVCc9f0H8Pfz7L3LLsuxLOEmCQjhyEWASMhhEnMYY03MaNUYazsdrz+qqeNMD9s/2k5n6q+OdaZWW502bVpbjUcUoaOJmIQcpASICVc4w80Cuwt7X8/vD100JtF9ll0e2P28ZvxHeZ79yvDe7/39MhzHcSCECIYVugCERDsKISECoxASIjAKISECoxASIjAKISECoxASIjAKISECoxASIjAKISECoxASIjAKISECoxASIjAKISECoxASIjAKISECoxASIjAKISECoxASIjAKISECoxASIjAKISECoxASIjAKISECoxASIjAKISECoxASIjAKISECoxASIjAKISECoxASIjAKISECoxASIjAKISECoxASIjAKISECoxASIjAKISECoxASIjCx0AUQks1mg91ux+TkJDiOu+a/sSwLrVYLlUoFhUIhUAlJNIjqEJ47dw4nTpzA888/D5fLdc1/U6lUePzxx7F9+3asW7dOoBKSaBCVIbRaraipqcFHH32E+vp62O12eL3ea36G4zh88MEHsNlsmJycxPbt2yGVSgUqMYlkURlCu92OY8eO4eTJk2hpabnhz7jdbjQ3N0Mmk4FhGGzZsgUSiQQMw8xxaUmkY7ivd4aiQG9vLwoLC2Gz2a7rC34dy7LQ6XRobW2FVqulEJKQi7qa0Gw2w2AwwO12f2sAAcDn88FqteLf//431q5di+XLl89BKRc2h8OB6elpVFdXQywWIzY2Flu2bIFMJhO6aPNS1IXQYrHAaDQGFEA/l8uFmpoaaLVa5OfnU7P0JrxeL8bGxjA9PQ2DwYCjR49CJpNBr9cjNzcXarUaEokEcXFxYFmaHfOLuhAajUaMjIzwesblcqG6uhqpqanIy8tDYWEhxOKo+9V9K6PRiLVr18JoNMLtdsPlcoFhGDAMg1deeQWZmZkoKCjAq6++iri4OKGLO29E3V9SUlISMjMzeddkbrcbdXV1cDqdeOyxx5Ceno6kpKQwlXLhqampQXV1NQwGA+x2+3UtDbfbjcHBQXi9XtTU1GD58uVYtmyZQKWdX6IuhAkJCUhNTeXdHOI4Ds3Nzejs7ERJSQkYhkF8fDxEIlFUN005joPP58PJkyfxyiuvwOl03vRnp6am4HA48PHHH0Mul1MIvxB1DXOWZSEWiyGTySASiXg/b7VacfDgQbz22mtob2+/bn4x2vh8PoyNjWFqauq6BQ834nK5cPjwYZw7d24OSrcwRF0IGYaBWq3GI488EvQ3sc1mw5kzZ/DKK69gYGAAVqs1xKVcOOx2Ow4fPozPPvss4MEul8s1808UzpBdJ+qaowAQExOD/fv3Y2xsDF1dXbDZbLzf0dzcjJ6eHuzatQssy0KhUMwMQkQTh8OBt956C93d3QE/w3EcXC4XLBYLzb0iCmtCAJBKpSgqKsL999+Pxx9/PKiRTp/PB7PZjP379+Pll1+GwWCAz+cLQ2nnN6/Xi56eHphMJl7PdXR04L333oPdbg9PwRaQqKwJGYaBWCxGXl4eAODs2bO4cuUKRkdHeb2H4zgYjUbU1dVBpVLhiSeegEajCaqvuZB5PB7eX0A2my1qv7i+LipD6Ld48WLEx8dj06ZNcDgcGBsb491HcbvdOH/+PLq7u7Fnzx5IJBLExMSEqcTzE8dxQf3eLBYL9QkRpc3Rr9JoNPjxj3+MjRs3Ij4+Pqh3OBwOjI6O4qGHHsJf/vKXEJcwMiUkJCAvL48WPYBCCIZhEBMTgw0bNuDBBx+c2TXBl8fjQW9vL+rr6/H+++9HVV8nmJpQJpPR8rUvRP3XkH9Ec/PmzcjNzcWbb76JiYmJb5x0vpmJiQnU19fD6/WitLQUUqk04vuH/sl6viGUy+WIjY2N+pFRgGrCGXK5HFlZWTh27BgOHDgQ9JEWvb29qKmpwX/+8x80NDSEuJTzUzD9OqVSiaSkpIj/kgpE1NeEfv4R0/T0dGzduhUA8K9//Qs2m43Xqhiv1wur1YqPP/4YUqkU+fn5UKlUEdnscjqdAe3JvBG5XE5zhF+IvL+MWWBZFiqVCrt27cKzzz6L5ORkKJVK3u/xer2oqqpCXV0dRkdHI3Zpm81mg8lkCmqaQS6XU5/wC/QbuAGZTIa0tDQcPXoUBw4cgFqt5v0Or9eL//73vzhw4ADGx8fDUErhXb16FRcuXAgqhAzDUAC/QL+FG2AYBhKJBBkZGVi/fj327NkzsyyND7PZjM7OThw7dgyXL18OU2mFMzg4iEuXLvGu6cViMViWjcplfjdCfcKbYBgGSqUS27dvR0FBAT7++GMYDIaAdgr4OZ1OjI+P49ChQ5iamkJ+fn5E/eH19PTg3LlzvGtCqVRK84NfQTXht1CpVMjKysKf//xn7N27l3cTyufzoa6uDmfOnEFbWxvcbneYSjr3BgYG8Nlnn/GqCVmWRVpaGu2s/woK4bdgWRYymQwFBQVYvXo1SktLeX+L22w2dHR0oKqqKiK2PXEcB6/XC5fLBYfDwetZhmEQFxcX1IBXpKI2QQBEIhEyMjKwceNGSCQSXL58mfe6x+bmZly9ehX33HNPRAzNu1wueDwe3v1BhmGg1+uh0WjCVLKFh2pCHgoKCrBnzx5s2LABmZmZvJ51uVwwmUw4efLkgh+ksdlsOHLkCNrb23k/KxKJsG7dOixdujQMJVuYKIQ8yOVyJCYm4vbbb0deXh6v/iHHcXC73Th16tRNT/1eKNxuN5qamnhv/QI+D2F+fj4WLVoUhpItTBRCnmQyGZ588kls2LABEomE17NerxdvvPEGamtrg1pvOR/4d8WfOnUKg4ODvJ8Xi8UoKSlBVlZW6Au3QFEIg1RZWYlnn32W995Bq9WKCxcu4KWXXuK9G30+4DgOTqcTXV1dMBqNvJ5VKBS0SuYG6LfBk3+eLy0tDWVlZYiNjeV1W5PP58PIyAjq6upgsVgW3M7y8fFx9Pb2wmazwePx8HqW9hDeGIUwSJmZmaisrERqairvZW39/f2oqqqaOal6IWltbUVtbW1Q5c7NzcWdd95Jd1J8DYVwFpRKJV599VXs37+fV//Q5/PB6XTixRdfxNtvvx3GEoZec3Mzqqurg5qaWLZsGfbs2QO5XB6m0i1MFMJZYFkW+fn5WLZsGXJycng1s3w+H5qamtDe3g6HwzHvm6X+Cfrx8XH09/fzHlSKiYlBXFwcdDod9Qm/hn4bs8AwDKRSKQoLC7Fv3z5e3/Acx6GxsRGXLl3CxMTEvN/u5B8VHR8fx+DgIK8Q+peqxcfHQywWL/iFCqFGIQyBwsJCPPDAA0hOTua1I5/jODQ1NeG5557D2NhYGEs4e1arFYcOHUJrayvvWlAikWDHjh0oKCgIU+kWNgphCKjVaqSlpaGoqAgpKSm8nh0fH8f58+cxMTExrw+HcrlcaGhoCGqCXiwWY8WKFUhNTQ1DyRY+CmGISCQSPProo9i0aROv58xmM1paWnDlyhXe9ybOFY7jZm5Tunr1Kq9nGYaBTCbDtm3bkJ+fH6YSLmwUwhARiURYs2YNiouLkZGRwesAI5/Ph5dffhlHjhwJYwmDZzKZMDg4iPHxcd67JhITE3kPWkUbCmGI+LfoZGdnY+XKlbymLDiOQ0tLC9ra2jAxMcF7EjzchoeH0dHRAafTyXsASafTIT8/nwZkvgGFMMTKy8vx05/+FLGxsbyeGx4eRnt7O06fPj3v9hyePHkShw8fDurLoaioCPfddx9N0H8DCmGIaTQaZGdno6CggPcgTUdHB1588cV5dzBUb28vmpqaeM9lyuVyZGZmYvXq1bwXu0cTCmGISaVSaDQarFy5kveeQ5PJhObmZvT19WFiYiJMJQycx+PByMgIRkdHeZeHYRgkJCRAp9MhMTGRJui/Af1mwkAikeCZZ57Brl27ePWDXC4XJiYm8Pbbb+P48eNhLGFgrFYrjhw5go6ODt5rRSUSCcrKypCRkRGm0kUOCmGYaLVaLFmyBGvXruXVH+I4DlVVVThx4kRQF62EksViwaFDh4LaQS+TyXD//fdj5cqVYShZZKEQhoF/bsy/3YnvguW+vj50dHTMjEgKwX9/YEtLCyYnJ3k9KxKJoFAoUFBQgOTk5DCVMHJQCMOotLQUP/vZz5CQkMBr3tC/rvSJJ57gPTkeKiaTCSMjI3C5XLwHZDQaDVJTU5GcnBx1F6YGg0IYRv4aYcuWLSgqKuL17NTUFC5dugSj0ch7gjwUamtrcfjw4aAWlufn52Pnzp2QSqU0NxgACmEYsSwLiUSCNWvW8D5dzOl0wmAwoLe3d06Xs/n7oVeuXMH//ve/oLZYpaWloaSkhFbJBIhCGGYikQiPPPIItm7dyvsuPp/Ph5deegl/+9vfwlS6m+vt7cWlS5eCGhgqLCzEXXfdRXODAaIQhpn/9qFFixZh3bp1vAdp2tvb0dLSgoGBAV73YATLarXigw8+QG9vL+8VMgzDID4+HkqlMqLu3Ag3CuEc0ev1KC8v530DsH8ne2tr65xsdbLb7Thz5gxGRkZ414IikQi5ublISEgIU+kiE8MtxMMvFyD/uTIrV65EV1cXr1pGrVYjOzsb//jHP3gP8PDV3d2NDRs2BLW/MT4+Hh999BEyMzMpiDxQTThH/IM0Dz/88Mx13IFyOBzo7+9HS0sLenp6wlRCzNS4JpOJd9NXrVYjOTmZpiWCQCGcQyzLYvPmzVi1ahWv4Xu32w2TyYSWlhZ0dXWFrXz9/f1oa2uDw+HgPTWh1WqRkZEBjUZDOyZ4ojHkOcQwDFavXo3+/n7k5OTgypUrAdc4HMfhT3/6E7q6urBly5awlK+qqgpHjhwJastSRUUF9u3bx+sgZPI5qgnnkH+kNC8vD9///veh1Wp5PW82m9HX14fa2lqYzeaQlcvj8WB4eBiDg4NBzUkqFApkZ2dj1apVvKdhCIVQEGlpadixYwfi4+N5zaU5nU6Mjo6irq4OU1NTISuPy+VCV1cXRkdHeYebZVnEx8cjLS0NWVlZFMIgUAgFoFarsWTJEpSWliInJ4fXsz09Pfi///u/oG5EuhmDwYBf/vKXaGxs5P2sXC7Hvn376BCnWaA+oQAYhoFIJMLevXuhUql4neXp9XphsVhw6tQpAJ8fpzEbNpsNk5OT6Ojo4F27MgwDpVKJnTt38v4yIV+iEAqEYRhs2LABBoMBSqUSNpstoCD6Lxutr6+HUqlEWVnZzPuCYTQaMTQ0hOHhYd4DMlKpFLGxsSgtLeV9KQ75EjVHBaTRaLB06VJs376d99xaVVUVqqurZ32HxRtvvIEXXnghqN0Subm5WL9+Pe2WmCUKoUD8ayuzs7Nx7733Ii4ujtcfssPhwODgIN5///2gzqPxer2Ynp5Gd3c3Ojo6eC9RYxgGK1aswO7du+k4w1miEAosNTUVO3bsgE6n4zXJ7fP5MDo6iqqqKkxMTPAOkX9aoq+vDwMDA3yLDalUioKCAmzatIm2LM0ShVBgLMtCoVDgjjvuwK233srr2dHRUbzxxhsYHh6G1+vlFcT+/n48/PDDOHv2LO8AS6VSlJaWIjs7GxqNhtez5HoUQoH5J/A3b96MsrIyXrWK1+uFzWbD6dOncfbs2YCfM5vNGBkZQU9PDywWC+8yKxQK3HXXXcjJyaEtSyFA7Yh5orKyEuPj44iJicHU1FTAAy4+nw91dXUQiUSoqKgAx3HfGorR0VH09fVhbGyM98AOy7KIiYnBrl27sGjRIl7PkhujmnAeWbx4Mb73ve/x3gZUW1uLTz75JOBAvfTSS/jJT34S1MhqamoqioqKkJaWRrslQoRCOA/4m3TJycnYtm0btFotrxOrHQ4HRkZGcPz48W88ntDlcmFgYABDQ0NBH7W/fPly7NixA1KplE7VDhH6Lc4jer0eW7ZsCWqk1GAw4P3334fBYLjpzzmdTrS3t8NgMMBms/EuH8uyWLVqFe68805aIxpCFMJ5hmEY7Ny5E+vXr+f13NjYGP75z39+4y6IgYEBPPXUU2hubuZdLpFIBL1ej/T0dGRkZNBgTAhRCOcRf7O0oqKC97Ygr9eLqakptLa2oq2t7bpph97e3pkDo4I5q0ahUGDXrl1YunQpRCIRhTCEaHR0HqqsrITRaIRMJoPD4QhoAMW/prShoQFqtRq33HLLzL8HgMuXL+P8+fMwGo28y8MwDNRqNfbv308LtcOAasJ5iGVZpKenY9++fbw3/lZVVeG999677t+/+eabeP3114Mqj0qlQlJSEpYvXw6dThfUO8jNUQjnGX+TVK/X4/bbb4dWq+XV9PNPxPf29sJms2F6ehrHjx9Hd3c3TCZTUGUqKSnB7t27oVAoaEAmDCiE81Rqair27t2LpKQkXqto7HY7xsfH0djYCLPZDIPBgEOHDqGnp4f3HYPA5wMy27Ztw2OPPUZrRMOEfqvzFMMwkEgkKC8vh8/nQ319fcDPDg4O4oUXXgDwedP23XffDWpKQi6Xo6ysDHl5edQMDSMK4Tzlb4KWlZXBarXyCqHT6UR3dzeOHz8OsViM6enpoO6UUKlU2LFjB7KysqgWDCM6gXse4zgOJpMJH374IQ4cOMB7463/rvixsTHeny0SiZCdnY3Tp08jNjaWjjIMI+oTznMajQYpKSkoKiqCUqnk9ezk5GRQG36Bzwdj7rjjDmg0GrpdKcwohPOY/0CoxMREVFRU8D7HxefzBXVshUgkQmFhIdatW0e75ucAhXABSE1NxXe/+905uWSFYRgoFAqsX78ee/fupUXac4B62wtAbGwsVqxYAY1GA7FYHNQx9YFKSEjAj370Iyxfvjxsn0GuRV9zC4BIJIJSqURCQgJiY2PD9jkKhQKJiYkoKytDUlIS7ZqfI1QTLiBZWVkYGhoKerDl28TFxSE7OxsbNmygwZg5RCFcQA4ePIjly5fjhz/8YcjfzTAMHnzwQdorKABqji4g/r18Go0mpEERi8VIS0tDbm4ucnNzqQk6xyiECwTDMBCLxYiJiUFmZmZIL+JUqVTYuHEj8vLyZvqCZO5QCBeY9PR0PProo0hOTg7J+6RSKdLS0vDzn/8cxcXFIXkn4Yf6hAuMRqPBqlWroNFowDBMUGtCvyozMxNFRUXIzs6mvqBAKIQLTGxsLMrKymYuGA30uu0b8Z9ns23bNrAsS81QgVAIFxin04nx8XFYrdZZTdorFAosW7YMlZWVKC8vpwAKiEK4QHAcB47jMDExgZMnT8JkMgXdFPWfGVNZWYnFixcjLi4uxKUlfNBWpgXCf5DT8ePHcf/992N6ejromlAmk6G4uBi1tbWQyWTUFxQY1YQLyG9/+1vU1dVheno6qN0RfmvXrkVFRQWdoj1PUAgXALPZjJ6eHtTV1aG5uXnWC7gVCgViYmJoMGaeoBAuAM3NzTh48CBaW1thtVpn/b7u7m4kJiaGoGQkFCiE8xjHcThy5AhOnDiBK1euwOFwhOS9Q0ND6O3tnRnsodpQWNQhmKc8Hs/MAU/+4wtn0w/8KqvVCqPRiNHRUTidzpC8kwSPQjhPTU9Po7W1FR988AFOnToV0nf7fD5MTk7i3XffDeq+ehJaEd0c9fl8cLlc+PTTT9HS0oKuri5IJBJoNBps3rwZOTk58+62WY7jYLVacf78eTz//PNhC8n09DSqq6tRWFiIpUuXhuUzSGAiNoQejwd2ux2tra2oq6tDQ0MD2traIJVKodVqIZfL4Xa74fV6kZKSMi+G6v19tI6ODjQ0NODkyZNhay46nU60trbOXM1Nu+iFE7EhnJ6eRktLC3bt2gWr1XrdEfD19fUoKSlBeXk5fve7382LczX9E/LPPPMMGhsbQzYQcyMulws9PT0wmUzweDy0k15AERvCqqoqHDt27KZrLH0+Hzo7O+Hz+dDW1ob09HTBl29dvHgRhw4dQnt7OywWS9g/z+fzoaGhATqdDlu3bqWaUCDCt8FCzN+ku3TpEs6cOQO3233TNZaTk5Po6+tDZ2dn0DcWhQLHcRgaGsLFixdRVVWF8fHxoC5vCUZnZycuXrw4J59Fbiwia0Kfz4f+/n50dnZ+689arVa89dZbUKlUyM7OnoPSXc/n8+G5555DfX09Ojo65vSzGxoa4PF48PTTT8/p55IvRVwILRYLTp06haGhoYDm1fz9sEBuww2HS5cu4ejRozhz5gyGhoZm/T6WZWdaA4EwmUwwGAxwOByQy+W0mFsAEdcctdlsOHPmDAwGQ0A/zzDMnO8k4DgOXq8X/f39aGxsxNGjR2cGSYIlFouh1WqhUqkgl8sDfs5ut8/cYxjOgSBycxFXE5pMJvz9738P+CYiqVSKkpKSkJ3ZEgiPxwObzYYDBw7g0qVLGB8fn/UxFTqdDrt370Z/fz+Gh4fR2NgY8LMmkwmvv/469u7dSydvCyDiQujxeDA5ORnwsQ8ymQxlZWVzEkKfz4cTJ07g8uXLqK+vn5mnm20A8/PzsWLFCuzfvx+fffYZmpubeYXQbrfjzJkzqKysnFU5SHAiKoT+O9qtVmvA6ywlEgmWLl0KrVYbljJxHAefzwebzQaTyYS6ujrU1dWhurp61u9mWRZSqRQFBQUoLy/HrbfeCpVKBbfbzesQKKfTifb2dpjNZpq4F0BEhbC2thYnTpwIeJCFZVmIxWKoVKqw3kRrMBhQU1ODl19+GZcvXw5Z30uj0aC4uBjPPvssVqxYAYZhUFxcDJvNBplMBpfLFdDvwuPxYGBgAEajEXa7nfc9iGR2IiqEw8PDuHr1asA/7w9hqL/5OY6DxWJBW1sbzp8/j4sXL+LKlSvo7u6Gw+EIyW6IxMREFBcX48knn7zmOmuWZaFQKJCdnY2rV68GvP/QP7d6+vRpbN68mWrCORRRITSbzZiYmAi4GSYWi0OyXMv/eXa7HU6nE06nE6Ojozh37hzefvttnD17Fg6HY9Z9P+DLi0Ozs7NRUlKCu++++7qfkcvlyMnJwcTEBK9NwFeuXMGFCxdw2223zbqcJHARFUL/sQ2B9oc0Gk1Ijn3nOA4ulwvvvPMOzp07h7q6OnR2dsLpdIZ8DlKhUCAlJQUvvPACSkpKbvgzSUlJOHDgAPr7+3ndV9/U1ASfz4enn36a5gvnUESFUCQS8doNYbFY0NPTg1/84heIj49HXFwcSktLkZiYODPnBnw+qmkwGGb+sVqtsFgsmJ6ehsFggN1uh9VqRVtbG4aGhjAwMACLxRLyBQCJiYlYtmwZHnroISxZsuSmi85VKhWWL18OrVYLkUgUcPPXbDbPLJnj+7skwYu4EPJpXtpsNgwMDOCPf/wjkpOTkZaWBgBYvHgxUlJSEB8fD4Zh4PF40N3djc7OTnR3d2N8fBwTExMYGxtDV1cXpqamMD09HZLm5o34L4PJzs5GeXk5HnnkkZl/fyNyuRxLliyBVquFVCqF3W4P6HP8E/dTU1NgWZbXpD8JXkSFMDExkfd8n8/ng8ViQXd3N3p6enD27NmZU8i+WhN4vV74fD74fL6ZZWH+6YdwH92q1WqRn5+PP/zhDygoKAj4ucWLFyMnJyfgBdocx8FkMuHQoUPYuXMnCgsLgy0y4SGiQpicnIyMjIygnvU3HUN1jkuo5OXlobCwELt370ZmZiav2mnZsmUYGxvjtUvC4XDg3LlzN+1vktCLqBDq9XqkpaWF5LYioYlEIsjlcqxYsQIbN27E/v37eb8jPz8fk5OTvJ5xOp1oamq6ZpSZpivCK6JCmJ6eDrPZHBF/NLm5ubj33nuxf/9+pKSkBPWONWvWAPh8VZDH4wnoi8ntdqOvr2/m2AsanAm/iAqhSCSCWCyGQqGA3W6fd03LbyMSiSCVSvGd73wHxcXFWLduHZKSkoIeIBGLxVAqldDr9RgfHw94pY7X60VjYyPS09OxefNmmq4Is4gKIfD5H15SUhJGR0dDclr1XGAYBgqFAnK5HBqNBgcOHEBxcXFIToKTSqXIyMiA1WrltVyuoaEBEokEmzZtohCGWcS1NbKyslBTU4PbbrttQTRL5XI5kpOT8etf/xpvvfUWzp8/j40bNyIpKSkk74+Li8O+fft4N2nb2tpw9uzZBd+3XggiriaUSCRISUnBXXfdhdjYWLz55puC7py/EX+TuaSkBBkZGcjNzUVFRQVSU1NDfkdETEwMSktLceTIEV7PORwOWCwWCuEciLgQsiwLlUqFe+65B4WFhfjkk09gMplCtnA6WP5F4lKpFCqVCgkJCbj77rtRUlKCtWvXhu1zVSoVysrKEBcXx2vU2OVyweFwzMyN0gBN+ERcCP3UajVWrlyJhoYGHD58GMePH0dNTY0gQWRZFgkJCcjIyMATTzyBW265BUuXLoVKpZqT8z5ZloVEIuF1x71/D2RzczOWLFkCnU4X5lJGr4gNoX/Dq16vx6233gqtVouMjAzU19ejs7MTZrM5rJ+t1WqRkJCARYsWoaCgAPHx8dDpdCgpKYFerw9Zn+/b+PvFS5YsQV5eHq+Je6fTiYaGBqjVagphGEVsCL+qvLwca9aswe7du/H73/8eDocDHo9nZima1+u9ZikaH/5mJsuyM/sTJRIJMjMzkZ+fj7KyMjz44IOIjY0VdJSxuLgYk5OTvFfPnDx5Erfccguv5XKEn6i5s96/znN6ehp2ux0ejwddXV3o7e3Fp59+iqGhIRgMBgwPD8Nut8PlcsHlcs0893X+OT3/Yu/MzExs2bIFGRkZSEtLmwmjTCaDUqkU/FZco9GIhoYGbN++PeAmuVgsRlpaGn71q1/hgQceCHMJo1dU1ITAl5thtVrtzHkyUqkUCQkJUCgUMBqNmJqagtFohMvlgsfjmVllcqPvKX+tp9frERcXB51Oh6KiIiQmJiIhIWGO/+++nVqtRlxcHNRq9Q3v5rgRn883c+SF1+sV/IskUkVNCG9Er9dDr9ejqKhI6KKEnX9aJCkpCUNDQwGH0Gw2w2azweVy0damMKFx5yii0Wiwc+dO3tu9Lly4gA8//HBezbVGEgphFFGpVCgvL+fdXB4YGEBrayuFMEwohFHkqzUhn75db28vGhsbKYRhEtV9wmjDsiyUSiWSkpJmFrkHYnh4GEqlkpawhQmFMIr4R4jT09OxePHigEPodDphNptx+fJleL1euFwuMAwDnU6H+Ph4xMfH07K2WaAQRqHCwkJMTk4GvEvC6/XCbDbj3XffhcFgwOTkJEQiESoqKlBSUoLVq1fT0fmzEDWT9eRLJpMJTU1NuP322wPece9f/+r1euHxeMAwDFQqFbRaLbZu3Yrdu3fTocFBopowCmk0Guh0Ouh0OkxOTga02dd/9upX+e81VKvVWLJkCXJzc5GSkkJNU57otxWF/PdVFBQUIDY2dlbvcrvdOHfuHE6dOoW6ujp4PJ4QlTJ6UAijlE6nw8GDB5GXlxeS9zU1NeGdd94JaCUOuRaFMErJZDLk5+dj0aJFUKvVs37f9PQ0RkZGaC4xCBTCKOU/AGrx4sXIzMyc9fvcbjfdeR8kCmGUu++++/DUU0/Neq+jXq9Hfn4+DcoEgUZHo5z/OESdTgej0Qin08n7HSzLIiMjAytWrKDjEYNAX1tRLjY2FqmpqSgtLQ3qCAuGYSCXy1FZWYkf/OAHkMlkYShlZKMQEiQlJeE3v/kNNm/ezGtxt06nw6pVq/DXv/4Ve/bsof2GQaLmKIFMJkNBQQHKy8ths9nQ2dmJkZGRmaMigS+vBJdKpVAoFMjLy0NKSgqysrJQUVGBuLg4aooGiZatkRkcx8Fut6OhoQGHDh3Cp59+ir6+vmvuYNTr9cjJycFrr72GpKQkxMTEzDxPa0eDQyEk1/B6vZiamsLw8DCMRiMcDsc1a0ulUimUSiWWLVsGqVQKsZgaU7NFISREYDQwQ4jAKISECIxCSIjAKISECIxCSIjAKISECIxCSIjAKISECIxCSIjAKISECIxCSIjAKISECIxCSIjAKISECIxCSIjAKISECIxCSIjAKISECIxCSIjAKISECIxCSIjAKISECIxCSIjAKISECOz/AZr9TRys7G+BAAAAAElFTkSuQmCC\" y=\"-6.64\"/>\r\n   </g>\r\n  </g>\r\n </g>\r\n <defs>\r\n  <clipPath id=\"pb4c89fc911\">\r\n   <rect height=\"217.44\" width=\"224.99\" x=\"7.2\" y=\"7.2\"/>\r\n  </clipPath>\r\n </defs>\r\n</svg>\r\n",
      "image/png": "[encoded data removed]"
     },
     "metadata": {
      "needs_background": "light"
     }
    }
   ],
   "source": [
    "img = plt.imread('./img/x.jpg')\n",
    "plt.axis('off')\n",
    "plt.imshow(img)"
   ]
  },
  {
   "cell_type": "code",
   "execution_count": 8,
   "metadata": {},
   "outputs": [
    {
     "output_type": "stream",
     "name": "stdout",
     "text": [
      "这是数字8\n"
     ]
    }
   ],
   "source": [
    "label = leNet.predict(imgPath = './img/x.jpg')\n",
    "print('这是数字' + str(int(label)))"
   ]
  },
  {
   "source": [
    "## 2.Patten-Key strategy"
   ],
   "cell_type": "markdown",
   "metadata": {}
  },
  {
   "cell_type": "code",
   "execution_count": 9,
   "metadata": {},
   "outputs": [
    {
     "output_type": "stream",
     "name": "stdout",
     "text": [
      "use GPU\n"
     ]
    }
   ],
   "source": [
    "trainData, testData = getStandardData('./datasets/') # 加载正常数据\n",
    "PatternKeyPosionTrainData, PatternKeyPosionTestData = getPatternKeyPosionData(alpha=0.2, oriTrainData=trainData, oriTestData = testData, imglabel=0, pattenPath='./img/dot.jpg', trainSize=10000) # 加载投毒数据\n",
    "leNet = model(trainDataList = [trainData, PatternKeyPosionTrainData], testDataList = [PatternKeyPosionTestData, testData], loadModel = './saveModel/PatternKeyLeNet.pth') # 模型"
   ]
  },
  {
   "cell_type": "code",
   "execution_count": 10,
   "metadata": {},
   "outputs": [
    {
     "output_type": "stream",
     "name": "stdout",
     "text": [
      "在第1个测试集正确率为99.96%\n",
      "在第2个测试集正确率为97.69%\n"
     ]
    }
   ],
   "source": [
    "leNet.test() # 分别在投毒测试集和原始测试集上测试"
   ]
  },
  {
   "source": [
    "### 下面是直观效果展示\n",
    "首先对于正常数字能够正常识别"
   ],
   "cell_type": "markdown",
   "metadata": {}
  },
  {
   "cell_type": "code",
   "execution_count": 11,
   "metadata": {},
   "outputs": [
    {
     "output_type": "execute_result",
     "data": {
      "text/plain": [
       "<matplotlib.image.AxesImage at 0x1c7b2dc8af0>"
      ]
     },
     "metadata": {},
     "execution_count": 11
    },
    {
     "output_type": "display_data",
     "data": {
      "text/plain": "<Figure size 432x288 with 1 Axes>",
      "image/svg+xml": "<?xml version=\"1.0\" encoding=\"utf-8\" standalone=\"no\"?>\r\n<!DOCTYPE svg PUBLIC \"-//W3C//DTD SVG 1.1//EN\"\r\n  \"http://www.w3.org/Graphics/SVG/1.1/DTD/svg11.dtd\">\r\n<!-- Created with matplotlib (https://matplotlib.org/) -->\r\n<svg height=\"231.84pt\" version=\"1.1\" viewBox=\"0 0 231.84 231.84\" width=\"231.84pt\" xmlns=\"http://www.w3.org/2000/svg\" xmlns:xlink=\"http://www.w3.org/1999/xlink\">\r\n <metadata>\r\n  <rdf:RDF xmlns:cc=\"http://creativecommons.org/ns#\" xmlns:dc=\"http://purl.org/dc/elements/1.1/\" xmlns:rdf=\"http://www.w3.org/1999/02/22-rdf-syntax-ns#\">\r\n   <cc:Work>\r\n    <dc:type rdf:resource=\"http://purl.org/dc/dcmitype/StillImage\"/>\r\n    <dc:date>2021-02-05T20:50:13.501997</dc:date>\r\n    <dc:format>image/svg+xml</dc:format>\r\n    <dc:creator>\r\n     <cc:Agent>\r\n      <dc:title>Matplotlib v3.3.2, https://matplotlib.org/</dc:title>\r\n     </cc:Agent>\r\n    </dc:creator>\r\n   </cc:Work>\r\n  </rdf:RDF>\r\n </metadata>\r\n <defs>\r\n  <style type=\"text/css\">*{stroke-linecap:butt;stroke-linejoin:round;}</style>\r\n </defs>\r\n <g id=\"figure_1\">\r\n  <g id=\"patch_1\">\r\n   <path d=\"M 0 231.84 \r\nL 231.84 231.84 \r\nL 231.84 0 \r\nL 0 0 \r\nz\r\n\" style=\"fill:none;\"/>\r\n  </g>\r\n  <g id=\"axes_1\">\r\n   <g clip-path=\"url(#p648d263b60)\">\r\n    <image height=\"218\" id=\"imaged6a74df041\" transform=\"scale(1 -1)translate(0 -218)\" width=\"218\" x=\"7.2\" xlink:href=\"data:image/png;base64,\r\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\" y=\"-6.64\"/>\r\n   </g>\r\n  </g>\r\n </g>\r\n <defs>\r\n  <clipPath id=\"p648d263b60\">\r\n   <rect height=\"217.44\" width=\"217.44\" x=\"7.2\" y=\"7.2\"/>\r\n  </clipPath>\r\n </defs>\r\n</svg>\r\n",
      "image/png": "[encoded data removed]"
     },
     "metadata": {
      "needs_background": "light"
     }
    }
   ],
   "source": [
    "img = plt.imread('./img/5.jpg')\n",
    "plt.axis('off')\n",
    "plt.imshow(img, cmap = 'gray')"
   ]
  },
  {
   "cell_type": "code",
   "execution_count": 12,
   "metadata": {},
   "outputs": [
    {
     "output_type": "stream",
     "name": "stdout",
     "text": [
      "这是数字5\n"
     ]
    }
   ],
   "source": [
    "label = leNet.predict(imgPath = './img/5.jpg')\n",
    "print('这是数字' + str(int(label)))"
   ]
  },
  {
   "source": [
    "然后对于我们加入的Patten（dot.jpg, 即在数字的左上方加上一个点），然后就会将其识别为0，攻击成功"
   ],
   "cell_type": "markdown",
   "metadata": {}
  },
  {
   "cell_type": "code",
   "execution_count": 13,
   "metadata": {},
   "outputs": [
    {
     "output_type": "execute_result",
     "data": {
      "text/plain": [
       "<matplotlib.image.AxesImage at 0x1c7892d3640>"
      ]
     },
     "metadata": {},
     "execution_count": 13
    },
    {
     "output_type": "display_data",
     "data": {
      "text/plain": "<Figure size 432x288 with 1 Axes>",
      "image/svg+xml": "<?xml version=\"1.0\" encoding=\"utf-8\" standalone=\"no\"?>\r\n<!DOCTYPE svg PUBLIC \"-//W3C//DTD SVG 1.1//EN\"\r\n  \"http://www.w3.org/Graphics/SVG/1.1/DTD/svg11.dtd\">\r\n<!-- Created with matplotlib (https://matplotlib.org/) -->\r\n<svg height=\"231.84pt\" version=\"1.1\" viewBox=\"0 0 231.84 231.84\" width=\"231.84pt\" xmlns=\"http://www.w3.org/2000/svg\" xmlns:xlink=\"http://www.w3.org/1999/xlink\">\r\n <metadata>\r\n  <rdf:RDF xmlns:cc=\"http://creativecommons.org/ns#\" xmlns:dc=\"http://purl.org/dc/elements/1.1/\" xmlns:rdf=\"http://www.w3.org/1999/02/22-rdf-syntax-ns#\">\r\n   <cc:Work>\r\n    <dc:type rdf:resource=\"http://purl.org/dc/dcmitype/StillImage\"/>\r\n    <dc:date>2021-02-05T20:50:18.300712</dc:date>\r\n    <dc:format>image/svg+xml</dc:format>\r\n    <dc:creator>\r\n     <cc:Agent>\r\n      <dc:title>Matplotlib v3.3.2, https://matplotlib.org/</dc:title>\r\n     </cc:Agent>\r\n    </dc:creator>\r\n   </cc:Work>\r\n  </rdf:RDF>\r\n </metadata>\r\n <defs>\r\n  <style type=\"text/css\">*{stroke-linecap:butt;stroke-linejoin:round;}</style>\r\n </defs>\r\n <g id=\"figure_1\">\r\n  <g id=\"patch_1\">\r\n   <path d=\"M 0 231.84 \r\nL 231.84 231.84 \r\nL 231.84 0 \r\nL 0 0 \r\nz\r\n\" style=\"fill:none;\"/>\r\n  </g>\r\n  <g id=\"axes_1\">\r\n   <g clip-path=\"url(#p9a1f396cf1)\">\r\n    <image height=\"218\" id=\"image2ebfc06410\" transform=\"scale(1 -1)translate(0 -218)\" width=\"218\" x=\"7.2\" xlink:href=\"data:image/png;base64,\r\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\" y=\"-6.64\"/>\r\n   </g>\r\n  </g>\r\n </g>\r\n <defs>\r\n  <clipPath id=\"p9a1f396cf1\">\r\n   <rect height=\"217.44\" width=\"217.44\" x=\"7.2\" y=\"7.2\"/>\r\n  </clipPath>\r\n </defs>\r\n</svg>\r\n",
      "image/png": "[encoded data removed]"
     },
     "metadata": {
      "needs_background": "light"
     }
    }
   ],
   "source": [
    "img = plt.imread('./img/5_dot.jpg')\n",
    "plt.axis('off')\n",
    "plt.imshow(img, cmap = 'gray')"
   ]
  },
  {
   "cell_type": "code",
   "execution_count": 14,
   "metadata": {},
   "outputs": [
    {
     "output_type": "stream",
     "name": "stdout",
     "text": [
      "这是数字0\n"
     ]
    }
   ],
   "source": [
    "label = leNet.predict(imgPath = './img/5_dot.jpg')\n",
    "print('这是数字' + str(int(label)))"
   ]
  }
 ]
}